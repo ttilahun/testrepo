{
 "cells": [
  {
   "cell_type": "markdown",
   "metadata": {},
   "source": [
    "# **Hydroclimatology Lab 04 Assignment - 02/25/2021**\n"
   ]
  },
  {
   "cell_type": "markdown",
   "metadata": {},
   "source": [
    "### _(1) calculate statistics values for \"snowfall\" data?_"
   ]
  },
  {
   "cell_type": "code",
   "execution_count": 10,
   "metadata": {},
   "outputs": [],
   "source": [
    "# Let's import the necessary libraries\n",
    "import pandas as pd                \n",
    "import numpy as np                 \n",
    "import matplotlib.pyplot as plt    \n",
    "import seaborn as sns  \n",
    "import math                      # for math calculation purposes\n",
    "from scipy.stats import gamma    # for statistics analysis purposes and fitting Gamma distribution \n",
    "from scipy.stats import norm     # for statistics analysis purposes and fitting Normal distribution  \n",
    "import statistics         # for statistics analysis purposes"
   ]
  },
  {
   "cell_type": "code",
   "execution_count": 11,
   "metadata": {
    "scrolled": true
   },
   "outputs": [
    {
     "name": "stdout",
     "output_type": "stream",
     "text": [
      "     SNOW\n",
      "Day      \n",
      "1     7.0\n",
      "2     7.0\n",
      "3     7.9\n",
      "4     6.0\n",
      "5     4.0\n",
      "6     3.0\n",
      "7     4.3\n",
      "8     4.0\n",
      "9    10.0\n",
      "10    6.0\n",
      "11    7.0\n",
      "12    2.0\n",
      "13    2.0\n",
      "14    2.0\n",
      "15    5.0\n",
      "16    4.0\n",
      "17    3.0\n",
      "18    4.0\n",
      "19   10.0\n",
      "20   11.0\n",
      "21    5.0\n",
      "22    8.0\n",
      "23    9.0\n",
      "24    2.0\n",
      "25    6.0\n",
      "26    6.0\n",
      "27    7.4\n",
      "28    3.0\n",
      "29    8.0\n",
      "30    4.0\n",
      "31    5.0\n",
      "Mean = 5.567741935483871 in\n",
      "Median = 5.0 in\n",
      "Mode = 4.0 in\n",
      "Variance = 6.455591397849463\n",
      "SD = 2.5407855867525426 in\n"
     ]
    },
    {
     "data": {
      "image/png": "[encoded data removed]",
      "text/plain": [
       "<Figure size 432x288 with 1 Axes>"
      ]
     },
     "metadata": {
      "needs_background": "light"
     },
     "output_type": "display_data"
    }
   ],
   "source": [
    "# Let's import the snowfall data we downloaded from NOAA\n",
    "df = pd.read_csv (\"Hayes center noaa snowfall.csv\")\n",
    "\n",
    "# Let's separate the \"Date\" column to \"Day\", \"Month\", and \"Year\" columns\n",
    "df [\"DATE\"] = pd.to_datetime (df[\"DATE\"], errors = \"coerce\")\n",
    "df [\"Day\"] = df[\"DATE\"].dt.day\n",
    "df [\"Month\"] = df[\"DATE\"].dt.month\n",
    "df [\"Year\"] = df[\"DATE\"].dt.year\n",
    "df [\"Day of Year\"] = df [\"DATE\"].dt.dayofyear\n",
    "\n",
    "# Let's drop the \"NaN\" values from the dataframe\n",
    "df = df.dropna ()\n",
    "\n",
    "# New Dataframe for snowfall in Jan 2021\n",
    "df_Jan = df.loc [df[\"Month\"] == 1]\n",
    "df_Jan_Max = pd.pivot_table (df_Jan, values = [\"SNOW\"], index = [\"Day\"], aggfunc = \"max\")\n",
    "print (df_Jan_Max)\n",
    "\n",
    "# Histogram\n",
    "df_Jan_Max.plot.hist (by = \"SNOW\", bins = 10, color = \"c\", edgecolor = \"k\")\n",
    "\n",
    "# Calculate Mean\n",
    "plt.axvline (df_Jan_Max [\"SNOW\"].mean(), color = \"black\", linestyle = \"dashed\", label = \"Mean\")\n",
    "print (\"Mean = {} in\".format(df_Jan_Max [\"SNOW\"].mean()))\n",
    "\n",
    "# Calculate Median\n",
    "plt.axvline (df_Jan_Max [\"SNOW\"].median(), color = \"red\", linestyle = \"dashed\", label = \"Median\")\n",
    "print (\"Median = {} in\".format(df_Jan_Max [\"SNOW\"].median()))\n",
    "\n",
    "# Calculate Mode\n",
    "mode = max (df_Jan_Max [\"SNOW\"].tolist(), key = df_Jan_Max [\"SNOW\"].tolist().count)\n",
    "print (\"Mode = {} in\".format(mode))\n",
    "\n",
    "# Calculate Variance\n",
    "print (\"Variance = {}\".format(df_Jan_Max [\"SNOW\"].var()))\n",
    "\n",
    "# Calculate Standard Deviation (SD)\n",
    "print (\"SD = {} in\".format(math.sqrt (df_Jan_Max [\"SNOW\"].var())))\n",
    "\n",
    "plt.legend ()\n",
    "\n",
    "plt.savefig (\"1_Histogram.png\", dpi = 400)"
   ]
  },
  {
   "cell_type": "markdown",
   "metadata": {},
   "source": [
    "### _(2) How to calculate and remove seasonal variability from \"precipitation\" data?_"
   ]
  },
  {
   "cell_type": "code",
   "execution_count": 12,
   "metadata": {},
   "outputs": [
    {
     "name": "stdout",
     "output_type": "stream",
     "text": [
      "           STATION                      NAME        DATE  PRCP\n",
      "0      USW00024020  HAYES CENTER 1 NW, NE US  1894-12-01   0.0\n",
      "1      USW00024020  HAYES CENTER 1 NW, NE US  1894-12-02   0.0\n",
      "2      USW00024020  HAYES CENTER 1 NW, NE US  1894-12-03   0.0\n",
      "3      USW00024020  HAYES CENTER 1 NW, NE US  1894-12-04   0.0\n",
      "4      USW00024020  HAYES CENTER 1 NW, NE US  1894-12-05   0.0\n",
      "...            ...                       ...         ...   ...\n",
      "45568  USW00024020  HAYES CENTER 1 NW, NE US    3/2/2021   0.0\n",
      "45569  USW00024020  HAYES CENTER 1 NW, NE US    3/3/2021   0.0\n",
      "45570  USW00024020  HAYES CENTER 1 NW, NE US    3/4/2021   0.0\n",
      "45571  USW00024020  HAYES CENTER 1 NW, NE US    3/5/2021   0.0\n",
      "45572  USW00024020  HAYES CENTER 1 NW, NE US    3/6/2021   0.0\n",
      "\n",
      "[45573 rows x 4 columns]\n",
      "STATION     object\n",
      "NAME        object\n",
      "DATE        object\n",
      "PRCP       float64\n",
      "dtype: object\n",
      "           STATION                      NAME       DATE  PRCP  Day  Month  \\\n",
      "0      USW00024020  HAYES CENTER 1 NW, NE US 1894-12-01   0.0    1     12   \n",
      "1      USW00024020  HAYES CENTER 1 NW, NE US 1894-12-02   0.0    2     12   \n",
      "2      USW00024020  HAYES CENTER 1 NW, NE US 1894-12-03   0.0    3     12   \n",
      "3      USW00024020  HAYES CENTER 1 NW, NE US 1894-12-04   0.0    4     12   \n",
      "4      USW00024020  HAYES CENTER 1 NW, NE US 1894-12-05   0.0    5     12   \n",
      "...            ...                       ...        ...   ...  ...    ...   \n",
      "45568  USW00024020  HAYES CENTER 1 NW, NE US 2021-03-02   0.0    2      3   \n",
      "45569  USW00024020  HAYES CENTER 1 NW, NE US 2021-03-03   0.0    3      3   \n",
      "45570  USW00024020  HAYES CENTER 1 NW, NE US 2021-03-04   0.0    4      3   \n",
      "45571  USW00024020  HAYES CENTER 1 NW, NE US 2021-03-05   0.0    5      3   \n",
      "45572  USW00024020  HAYES CENTER 1 NW, NE US 2021-03-06   0.0    6      3   \n",
      "\n",
      "       Year  Day of Year  \n",
      "0      1894          335  \n",
      "1      1894          336  \n",
      "2      1894          337  \n",
      "3      1894          338  \n",
      "4      1894          339  \n",
      "...     ...          ...  \n",
      "45568  2021           61  \n",
      "45569  2021           62  \n",
      "45570  2021           63  \n",
      "45571  2021           64  \n",
      "45572  2021           65  \n",
      "\n",
      "[45573 rows x 8 columns]\n",
      "           STATION                      NAME       DATE  PRCP  Day  Month  \\\n",
      "0      USW00024020  HAYES CENTER 1 NW, NE US 1894-12-01   0.0    1     12   \n",
      "1      USW00024020  HAYES CENTER 1 NW, NE US 1894-12-02   0.0    2     12   \n",
      "2      USW00024020  HAYES CENTER 1 NW, NE US 1894-12-03   0.0    3     12   \n",
      "3      USW00024020  HAYES CENTER 1 NW, NE US 1894-12-04   0.0    4     12   \n",
      "4      USW00024020  HAYES CENTER 1 NW, NE US 1894-12-05   0.0    5     12   \n",
      "...            ...                       ...        ...   ...  ...    ...   \n",
      "45568  USW00024020  HAYES CENTER 1 NW, NE US 2021-03-02   0.0    2      3   \n",
      "45569  USW00024020  HAYES CENTER 1 NW, NE US 2021-03-03   0.0    3      3   \n",
      "45570  USW00024020  HAYES CENTER 1 NW, NE US 2021-03-04   0.0    4      3   \n",
      "45571  USW00024020  HAYES CENTER 1 NW, NE US 2021-03-05   0.0    5      3   \n",
      "45572  USW00024020  HAYES CENTER 1 NW, NE US 2021-03-06   0.0    6      3   \n",
      "\n",
      "       Year  Day of Year  \n",
      "0      1894          335  \n",
      "1      1894          336  \n",
      "2      1894          337  \n",
      "3      1894          338  \n",
      "4      1894          339  \n",
      "...     ...          ...  \n",
      "45568  2021           61  \n",
      "45569  2021           62  \n",
      "45570  2021           63  \n",
      "45571  2021           64  \n",
      "45572  2021           65  \n",
      "\n",
      "[45377 rows x 8 columns]\n"
     ]
    }
   ],
   "source": [
    "\n",
    "# Let's import the precipitation data we downloaded from NOAA\n",
    "df = pd.read_csv (\"Hayes center noaa precipitation.csv\")\n",
    "print(df)\n",
    "print (df.dtypes)\n",
    "\n",
    "# Let's separate the \"Date\" column to \"Day\", \"Month\", and \"Year\" columns\n",
    "df [\"DATE\"] = pd.to_datetime (df[\"DATE\"], errors = \"coerce\")\n",
    "df [\"Day\"] = df[\"DATE\"].dt.day\n",
    "df [\"Month\"] = df[\"DATE\"].dt.month\n",
    "df [\"Year\"] = df[\"DATE\"].dt.year\n",
    "df [\"Day of Year\"] = df [\"DATE\"].dt.dayofyear\n",
    "print (df)\n",
    "\n",
    "# Let's count how many days are missing values in \"Snow\" column\n",
    "df.isnull().sum()\n",
    "\n",
    "# Let's drop the \"NaN\" values from the dataframe\n",
    "df = df.dropna ()\n",
    "\n",
    "# Check the updated dataframe without missing values\n",
    "df.isnull().sum()\n",
    "\n",
    "print(df)"
   ]
  },
  {
   "cell_type": "code",
   "execution_count": 13,
   "metadata": {},
   "outputs": [
    {
     "name": "stdout",
     "output_type": "stream",
     "text": [
      "           STATION                      NAME       DATE  PRCP  Day  Month  \\\n",
      "182    USW00024020  HAYES CENTER 1 NW, NE US 1895-07-01  0.00    1      7   \n",
      "183    USW00024020  HAYES CENTER 1 NW, NE US 1895-07-02  0.35    2      7   \n",
      "184    USW00024020  HAYES CENTER 1 NW, NE US 1895-07-03  0.00    3      7   \n",
      "185    USW00024020  HAYES CENTER 1 NW, NE US 1895-07-04  0.00    4      7   \n",
      "186    USW00024020  HAYES CENTER 1 NW, NE US 1895-07-05  0.00    5      7   \n",
      "...            ...                       ...        ...   ...  ...    ...   \n",
      "45381  USW00024020  HAYES CENTER 1 NW, NE US 2020-08-27  0.00   27      8   \n",
      "45382  USW00024020  HAYES CENTER 1 NW, NE US 2020-08-28  0.00   28      8   \n",
      "45383  USW00024020  HAYES CENTER 1 NW, NE US 2020-08-29  0.00   29      8   \n",
      "45384  USW00024020  HAYES CENTER 1 NW, NE US 2020-08-30  0.00   30      8   \n",
      "45385  USW00024020  HAYES CENTER 1 NW, NE US 2020-08-31  0.00   31      8   \n",
      "\n",
      "       Year  Day of Year  \n",
      "182    1895          182  \n",
      "183    1895          183  \n",
      "184    1895          184  \n",
      "185    1895          185  \n",
      "186    1895          186  \n",
      "...     ...          ...  \n",
      "45381  2020          240  \n",
      "45382  2020          241  \n",
      "45383  2020          242  \n",
      "45384  2020          243  \n",
      "45385  2020          244  \n",
      "\n",
      "[11463 rows x 8 columns]\n",
      "          PRCP\n",
      "Year          \n",
      "1895  0.105000\n",
      "1896  0.086630\n",
      "1897  0.110441\n",
      "1898  0.075435\n",
      "1899  0.076739\n",
      "...        ...\n",
      "2016  0.047609\n",
      "2017  0.101739\n",
      "2018  0.116304\n",
      "2019  0.170543\n",
      "2020  0.050870\n",
      "\n",
      "[126 rows x 1 columns]\n"
     ]
    },
    {
     "data": {
      "text/plain": [
       "<Figure size 1080x720 with 0 Axes>"
      ]
     },
     "metadata": {},
     "output_type": "display_data"
    },
    {
     "data": {
      "image/png": "[encoded data removed]",
      "text/plain": [
       "<Figure size 432x288 with 1 Axes>"
      ]
     },
     "metadata": {
      "needs_background": "light"
     },
     "output_type": "display_data"
    }
   ],
   "source": [
    "# Let's create a new dataframe including only June, July, and August precipitation data\n",
    "df_new = df.loc [(df[\"Month\"] == 6) | (df[\"Month\"] == 7) | (df[\"Month\"] == 8)]\n",
    "print (df_new)\n",
    "\n",
    "df_JJA = pd.pivot_table (df_new, values = [\"PRCP\"], index = [\"Year\"], aggfunc = \"mean\")\n",
    "print (df_JJA)\n",
    "\n",
    "# Plot\n",
    "plt.figure (figsize = (15, 10))      # Size of figure\n",
    "ax = df_JJA.plot (color = \"Blue\")    # Plot the precipitation data\n",
    "\n",
    "plt.axhline (df_JJA [\"PRCP\"].mean(), linestyle = \"dashed\", label = \"Mean\", c = \"red\")     # Plot the mean value\n",
    "\n",
    "plt.title (\"JJA Mean SNOW (1894-2021)\")\n",
    "plt.xlabel (\"Year\")\n",
    "plt.ylabel (\"PRCP (in)\")\n",
    "plt.legend ()\n",
    "ax.tick_params (labelsize = 7)\n",
    "plt.savefig (\"2_JJA_PRCP.png\", dpi = 400)"
   ]
  },
  {
   "cell_type": "code",
   "execution_count": 14,
   "metadata": {},
   "outputs": [
    {
     "name": "stdout",
     "output_type": "stream",
     "text": [
      "          PRCP\n",
      "Year          \n",
      "1895  0.006101\n",
      "1896 -0.012269\n",
      "1897  0.011542\n",
      "1898 -0.023464\n",
      "1899 -0.022160\n",
      "...        ...\n",
      "2016 -0.051291\n",
      "2017  0.002840\n",
      "2018  0.017405\n",
      "2019  0.071644\n",
      "2020 -0.048030\n",
      "\n",
      "[126 rows x 1 columns]\n"
     ]
    },
    {
     "data": {
      "image/png": "[encoded data removed]",
      "text/plain": [
       "<Figure size 432x288 with 1 Axes>"
      ]
     },
     "metadata": {
      "needs_background": "light"
     },
     "output_type": "display_data"
    }
   ],
   "source": [
    "df_anomaly = df_JJA - df_JJA[\"PRCP\"].mean()\n",
    "print (df_anomaly)\n",
    "\n",
    "# Plot the Anomalies\n",
    "ax = df_anomaly.plot (color = \"blue\")\n",
    "\n",
    "plt.axhline (df_anomaly [\"PRCP\"].mean(), linestyle = \"dashed\", label = \"Mean\", c = \"red\")     # Plot the mean value\n",
    "\n",
    "plt.title (\"JJA Anomaly (in)\")\n",
    "plt.xlabel (\"Year\")\n",
    "plt.ylabel (\"Anomaly (in)\")\n",
    "plt.savefig (\"3_Anomaly.png\", dpi = 400)"
   ]
  },
  {
   "cell_type": "markdown",
   "metadata": {},
   "source": [
    "### _(3) How to perform trend analysis (Mann_Kendall test) for \"precipitation\" data?_"
   ]
  },
  {
   "cell_type": "code",
   "execution_count": 10,
   "metadata": {
    "scrolled": true
   },
   "outputs": [
    {
     "name": "stdout",
     "output_type": "stream",
     "text": [
      "Collecting pymannkendall\n",
      "  Using cached pymannkendall-1.4.1-py3-none-any.whl (12 kB)\n",
      "Requirement already satisfied: numpy in e:\\programdata\\anaconda3\\envs\\opencv\\lib\\site-packages (from pymannkendall) (1.19.2)\n",
      "Requirement already satisfied: scipy in e:\\programdata\\anaconda3\\envs\\opencv\\lib\\site-packages (from pymannkendall) (1.5.2)\n",
      "Installing collected packages: pymannkendall\n",
      "Successfully installed pymannkendall-1.4.1\n"
     ]
    }
   ],
   "source": [
    "# Install the necessary package\n",
    "!pip install pymannkendall"
   ]
  },
  {
   "cell_type": "code",
   "execution_count": 15,
   "metadata": {},
   "outputs": [],
   "source": [
    "# Import the installed package into the Jupyter notebook environment\n",
    "import pymannkendall as mk"
   ]
  },
  {
   "cell_type": "code",
   "execution_count": 16,
   "metadata": {},
   "outputs": [
    {
     "name": "stdout",
     "output_type": "stream",
     "text": [
      "       PRCP\n",
      "Year       \n",
      "1894   0.21\n",
      "1895  14.02\n",
      "1896  16.66\n",
      "1897  18.85\n",
      "1898  15.52\n",
      "...     ...\n",
      "2017  25.23\n",
      "2018  26.78\n",
      "2019  27.80\n",
      "2020  12.58\n",
      "2021   0.73\n",
      "\n",
      "[128 rows x 1 columns]\n"
     ]
    },
    {
     "data": {
      "text/plain": [
       "Mann_Kendall_Test(trend='increasing', h=True, p=0.0011676723340321438, z=3.2466613645402713, Tau=0.007037783256543138, s=7245492.0, var_s=4980370555147.333, slope=0.0, intercept=0.0)"
      ]
     },
     "execution_count": 16,
     "metadata": {},
     "output_type": "execute_result"
    }
   ],
   "source": [
    "# Let's perform the test on annual snow in the period of 1973-2021:\n",
    "df_annual = pd.pivot_table (df, values = [\"PRCP\"], index = [\"Year\"], aggfunc = \"sum\")\n",
    "print (df_annual)\n",
    "\n",
    "# Mann_Kendall test\n",
    "mk.original_test (df [\"PRCP\"].tolist ())"
   ]
  },
  {
   "cell_type": "markdown",
   "metadata": {},
   "source": [
    "### Here is how to interpret the output of the test:\n",
    "#### <span style='background: yellow'> _trend: This tells the trend. Possible output includes increasing, decreasing, or no trend_ </span>\n",
    "#### <span style='background: yellow'> _h: True if trend is present. False if no trend is present._ </span>\n",
    "#### <span style='background: yellow'> _The p-value of the test._ </span>\n",
    "##### z: The normalize test statistic.\n",
    "##### Tau: Kendall Tau.\n",
    "##### s: Mann-Kendal’s score\n",
    "##### var_s: Variance S\n",
    "##### slope: Theil-Sen estimator/slope\n",
    "##### intercept: Intercept of Kendall-Theil Robust Line\n",
    "\n",
    "#### Source: https://www.statology.org/mann-kendall-test-python/"
   ]
  },
  {
   "cell_type": "markdown",
   "metadata": {},
   "source": [
    "### _(4) How to fit \"Gamma\" distribution to \"snowfall\" data?_"
   ]
  },
  {
   "cell_type": "code",
   "execution_count": 9,
   "metadata": {},
   "outputs": [
    {
     "name": "stdout",
     "output_type": "stream",
     "text": [
      "Gamma Distribution Parameters: shape = 2.298753560524397, location = 1.2903443244473431, scale = 1.8607479701368073\n",
      "Normal Distribution Parameters: mu = 5.567741935483871, std = 2.4994692464697117\n"
     ]
    },
    {
     "data": {
      "image/png": "[encoded data removed]",
      "text/plain": [
       "<Figure size 432x288 with 1 Axes>"
      ]
     },
     "metadata": {
      "needs_background": "light"
     },
     "output_type": "display_data"
    }
   ],
   "source": [
    "# Fit Gamma distribution to the data\n",
    "y = df_Jan_Max [\"SNOW\"].tolist ()\n",
    "param = gamma.fit (y) # fitting Gamma to y (snowfall data)\n",
    "print (\"Gamma Distribution Parameters: shape = {}, location = {}, scale = {}\".format (list(param)[0], list(param)[1], list(param)[2]))\n",
    "\n",
    "# Plot\n",
    "x = np.linspace (0, 14, 50)\n",
    "pdf_fitted = gamma.pdf(x, *param) \n",
    "plt.plot (x, pdf_fitted, color = \"blue\", label = \"fitted Gamma distribution\")\n",
    "\n",
    "\n",
    "# Fit Normal distribution to the data\n",
    "param = norm.fit (y) # fitting Normal to y (snowfall data)\n",
    "print (\"Normal Distribution Parameters: mu = {}, std = {}\".format (list(param)[0], list(param)[1]))\n",
    "\n",
    "# Plot\n",
    "x = np.linspace (0, 14, 50)  # you can change the value 14, depending on the maximum value of your data\n",
    "pdf_fitted = norm.pdf(x, *param) \n",
    "plt.plot (x, pdf_fitted, color = \"red\", label = \"fitted Normal distribution\")\n",
    "\n",
    "# plot the histogram of snowfall data\n",
    "plt.hist (y, bins = 10, density = True, color = \"c\",  edgecolor = \"k\")\n",
    "plt.xlabel (\"Snowfall Value (in)\")\n",
    "plt.ylabel (\"Probability (%)\")\n",
    "plt.legend ()\n",
    "\n",
    "plt.savefig (\"4_Fitting_Distribution.png\", dpi = 400)"
   ]
  },
  {
   "cell_type": "code",
   "execution_count": null,
   "metadata": {},
   "outputs": [],
   "source": []
  }
 ],
 "metadata": {
  "kernelspec": {
   "display_name": "Python 3",
   "language": "python",
   "name": "python3"
  },
  "language_info": {
   "codemirror_mode": {
    "name": "ipython",
    "version": 3
   },
   "file_extension": ".py",
   "mimetype": "text/x-python",
   "name": "python",
   "nbconvert_exporter": "python",
   "pygments_lexer": "ipython3",
   "version": "3.8.5"
  }
 },
 "nbformat": 4,
 "nbformat_minor": 4
}
